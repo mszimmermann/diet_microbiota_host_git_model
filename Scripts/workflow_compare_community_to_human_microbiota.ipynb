{
 "cells": [
  {
   "cell_type": "markdown",
   "metadata": {},
   "source": [
    "## Workflow compare synthetic community to native human microbiota data from the MetaCardis study\n",
    "Forslund, S.K., Chakaroun, R., Zimmermann-Kogadeeva, M. et al. Combinatorial, additive and dose-dependent drug–microbiome associations. Nature 600, 500–505 (2021). https://doi.org/10.1038/s41586-021-04177-9\n",
    "Data can be downloaded from https://zenodo.org/records/6242715"
   ]
  },
  {
   "cell_type": "code",
   "execution_count": 1,
   "metadata": {},
   "outputs": [],
   "source": [
    "# import libraries\n",
    "import pandas as pd\n",
    "import matplotlib.pyplot as plt\n",
    "\n",
    "%matplotlib inline\n",
    "#%matplotlib qt"
   ]
  },
  {
   "cell_type": "code",
   "execution_count": 3,
   "metadata": {},
   "outputs": [],
   "source": [
    "# define data folder\n",
    "human_data_folder = '..\\\\InputData\\\\human_microbiome_data\\\\'"
   ]
  },
  {
   "cell_type": "code",
   "execution_count": 9,
   "metadata": {},
   "outputs": [],
   "source": [
    "# define figure folder\n",
    "figure_folder = '..\\\\Figures\\\\'"
   ]
  },
  {
   "cell_type": "code",
   "execution_count": 4,
   "metadata": {},
   "outputs": [],
   "source": [
    "mydata = pd.read_csv(human_data_folder + 'hub.cellcount.motu.Phylum.v2.data.frame.r',\n",
    "                    sep='\\t')"
   ]
  },
  {
   "cell_type": "code",
   "execution_count": 5,
   "metadata": {},
   "outputs": [],
   "source": [
    "# pivot table to have samples vs features matrix\n",
    "mydatatable = pd.pivot_table(mydata, values='FeatureValue',\n",
    "                             index=['SampleID'],\n",
    "                            columns = ['Feature'])"
   ]
  },
  {
   "cell_type": "code",
   "execution_count": 6,
   "metadata": {},
   "outputs": [],
   "source": [
    "# normalize features to 1 (compositional data)\n",
    "mydatatable_norm = mydatatable.div(mydatatable.sum(axis=1), axis=0)"
   ]
  },
  {
   "cell_type": "code",
   "execution_count": 7,
   "metadata": {},
   "outputs": [
    {
     "data": {
      "text/html": [
       "<div>\n",
       "<style scoped>\n",
       "    .dataframe tbody tr th:only-of-type {\n",
       "        vertical-align: middle;\n",
       "    }\n",
       "\n",
       "    .dataframe tbody tr th {\n",
       "        vertical-align: top;\n",
       "    }\n",
       "\n",
       "    .dataframe thead th {\n",
       "        text-align: right;\n",
       "    }\n",
       "</style>\n",
       "<table border=\"1\" class=\"dataframe\">\n",
       "  <thead>\n",
       "    <tr style=\"text-align: right;\">\n",
       "      <th>Feature</th>\n",
       "      <th>Acidobacteria</th>\n",
       "      <th>Actinobacteria</th>\n",
       "      <th>Aquificae</th>\n",
       "      <th>Bacteroidetes</th>\n",
       "      <th>Chlamydiae</th>\n",
       "      <th>Chlorobi</th>\n",
       "      <th>Chloroflexi</th>\n",
       "      <th>Chrysiogenetes</th>\n",
       "      <th>Crenarchaeota</th>\n",
       "      <th>Cyanobacteria</th>\n",
       "      <th>...</th>\n",
       "      <th>Planctomycetes</th>\n",
       "      <th>Proteobacteria</th>\n",
       "      <th>Spirochaetes</th>\n",
       "      <th>Synergistetes</th>\n",
       "      <th>Tenericutes</th>\n",
       "      <th>Thaumarchaeota</th>\n",
       "      <th>Thermodesulfobacteria</th>\n",
       "      <th>Thermotogae</th>\n",
       "      <th>Verrucomicrobia</th>\n",
       "      <th>unclassified</th>\n",
       "    </tr>\n",
       "    <tr>\n",
       "      <th>SampleID</th>\n",
       "      <th></th>\n",
       "      <th></th>\n",
       "      <th></th>\n",
       "      <th></th>\n",
       "      <th></th>\n",
       "      <th></th>\n",
       "      <th></th>\n",
       "      <th></th>\n",
       "      <th></th>\n",
       "      <th></th>\n",
       "      <th></th>\n",
       "      <th></th>\n",
       "      <th></th>\n",
       "      <th></th>\n",
       "      <th></th>\n",
       "      <th></th>\n",
       "      <th></th>\n",
       "      <th></th>\n",
       "      <th></th>\n",
       "      <th></th>\n",
       "      <th></th>\n",
       "    </tr>\n",
       "  </thead>\n",
       "  <tbody>\n",
       "    <tr>\n",
       "      <th>x10MCx1134</th>\n",
       "      <td>0.0</td>\n",
       "      <td>0.005796</td>\n",
       "      <td>0.0</td>\n",
       "      <td>0.217918</td>\n",
       "      <td>0.0</td>\n",
       "      <td>0.0</td>\n",
       "      <td>0.0</td>\n",
       "      <td>0.0</td>\n",
       "      <td>0.0</td>\n",
       "      <td>0.0</td>\n",
       "      <td>...</td>\n",
       "      <td>0.0</td>\n",
       "      <td>0.001216</td>\n",
       "      <td>0.0</td>\n",
       "      <td>0.0</td>\n",
       "      <td>0.0</td>\n",
       "      <td>0.0</td>\n",
       "      <td>0.0</td>\n",
       "      <td>0.0</td>\n",
       "      <td>0.012789</td>\n",
       "      <td>0.621895</td>\n",
       "    </tr>\n",
       "    <tr>\n",
       "      <th>x10MCx1135</th>\n",
       "      <td>0.0</td>\n",
       "      <td>0.024177</td>\n",
       "      <td>0.0</td>\n",
       "      <td>0.489427</td>\n",
       "      <td>0.0</td>\n",
       "      <td>0.0</td>\n",
       "      <td>0.0</td>\n",
       "      <td>0.0</td>\n",
       "      <td>0.0</td>\n",
       "      <td>0.0</td>\n",
       "      <td>...</td>\n",
       "      <td>0.0</td>\n",
       "      <td>0.006216</td>\n",
       "      <td>0.0</td>\n",
       "      <td>0.0</td>\n",
       "      <td>0.0</td>\n",
       "      <td>0.0</td>\n",
       "      <td>0.0</td>\n",
       "      <td>0.0</td>\n",
       "      <td>0.000000</td>\n",
       "      <td>0.350304</td>\n",
       "    </tr>\n",
       "    <tr>\n",
       "      <th>x10MCx1138</th>\n",
       "      <td>0.0</td>\n",
       "      <td>0.006391</td>\n",
       "      <td>0.0</td>\n",
       "      <td>0.716887</td>\n",
       "      <td>0.0</td>\n",
       "      <td>0.0</td>\n",
       "      <td>0.0</td>\n",
       "      <td>0.0</td>\n",
       "      <td>0.0</td>\n",
       "      <td>0.0</td>\n",
       "      <td>...</td>\n",
       "      <td>0.0</td>\n",
       "      <td>0.034657</td>\n",
       "      <td>0.0</td>\n",
       "      <td>0.0</td>\n",
       "      <td>0.0</td>\n",
       "      <td>0.0</td>\n",
       "      <td>0.0</td>\n",
       "      <td>0.0</td>\n",
       "      <td>0.000000</td>\n",
       "      <td>0.117172</td>\n",
       "    </tr>\n",
       "    <tr>\n",
       "      <th>x10MCx1140</th>\n",
       "      <td>0.0</td>\n",
       "      <td>0.019180</td>\n",
       "      <td>0.0</td>\n",
       "      <td>0.267957</td>\n",
       "      <td>0.0</td>\n",
       "      <td>0.0</td>\n",
       "      <td>0.0</td>\n",
       "      <td>0.0</td>\n",
       "      <td>0.0</td>\n",
       "      <td>0.0</td>\n",
       "      <td>...</td>\n",
       "      <td>0.0</td>\n",
       "      <td>0.003387</td>\n",
       "      <td>0.0</td>\n",
       "      <td>0.0</td>\n",
       "      <td>0.0</td>\n",
       "      <td>0.0</td>\n",
       "      <td>0.0</td>\n",
       "      <td>0.0</td>\n",
       "      <td>0.000000</td>\n",
       "      <td>0.523847</td>\n",
       "    </tr>\n",
       "    <tr>\n",
       "      <th>x10MCx1143</th>\n",
       "      <td>0.0</td>\n",
       "      <td>0.000253</td>\n",
       "      <td>0.0</td>\n",
       "      <td>0.810251</td>\n",
       "      <td>0.0</td>\n",
       "      <td>0.0</td>\n",
       "      <td>0.0</td>\n",
       "      <td>0.0</td>\n",
       "      <td>0.0</td>\n",
       "      <td>0.0</td>\n",
       "      <td>...</td>\n",
       "      <td>0.0</td>\n",
       "      <td>0.003729</td>\n",
       "      <td>0.0</td>\n",
       "      <td>0.0</td>\n",
       "      <td>0.0</td>\n",
       "      <td>0.0</td>\n",
       "      <td>0.0</td>\n",
       "      <td>0.0</td>\n",
       "      <td>0.000000</td>\n",
       "      <td>0.139298</td>\n",
       "    </tr>\n",
       "    <tr>\n",
       "      <th>...</th>\n",
       "      <td>...</td>\n",
       "      <td>...</td>\n",
       "      <td>...</td>\n",
       "      <td>...</td>\n",
       "      <td>...</td>\n",
       "      <td>...</td>\n",
       "      <td>...</td>\n",
       "      <td>...</td>\n",
       "      <td>...</td>\n",
       "      <td>...</td>\n",
       "      <td>...</td>\n",
       "      <td>...</td>\n",
       "      <td>...</td>\n",
       "      <td>...</td>\n",
       "      <td>...</td>\n",
       "      <td>...</td>\n",
       "      <td>...</td>\n",
       "      <td>...</td>\n",
       "      <td>...</td>\n",
       "      <td>...</td>\n",
       "      <td>...</td>\n",
       "    </tr>\n",
       "    <tr>\n",
       "      <th>x30MCx3384</th>\n",
       "      <td>0.0</td>\n",
       "      <td>0.000735</td>\n",
       "      <td>0.0</td>\n",
       "      <td>0.305697</td>\n",
       "      <td>0.0</td>\n",
       "      <td>0.0</td>\n",
       "      <td>0.0</td>\n",
       "      <td>0.0</td>\n",
       "      <td>0.0</td>\n",
       "      <td>0.0</td>\n",
       "      <td>...</td>\n",
       "      <td>0.0</td>\n",
       "      <td>0.028796</td>\n",
       "      <td>0.0</td>\n",
       "      <td>0.0</td>\n",
       "      <td>0.0</td>\n",
       "      <td>0.0</td>\n",
       "      <td>0.0</td>\n",
       "      <td>0.0</td>\n",
       "      <td>0.000331</td>\n",
       "      <td>0.509273</td>\n",
       "    </tr>\n",
       "    <tr>\n",
       "      <th>x30MCx3412</th>\n",
       "      <td>0.0</td>\n",
       "      <td>0.030944</td>\n",
       "      <td>0.0</td>\n",
       "      <td>0.559131</td>\n",
       "      <td>0.0</td>\n",
       "      <td>0.0</td>\n",
       "      <td>0.0</td>\n",
       "      <td>0.0</td>\n",
       "      <td>0.0</td>\n",
       "      <td>0.0</td>\n",
       "      <td>...</td>\n",
       "      <td>0.0</td>\n",
       "      <td>0.022090</td>\n",
       "      <td>0.0</td>\n",
       "      <td>0.0</td>\n",
       "      <td>0.0</td>\n",
       "      <td>0.0</td>\n",
       "      <td>0.0</td>\n",
       "      <td>0.0</td>\n",
       "      <td>0.000000</td>\n",
       "      <td>0.262674</td>\n",
       "    </tr>\n",
       "    <tr>\n",
       "      <th>x30MCx3414</th>\n",
       "      <td>0.0</td>\n",
       "      <td>0.006607</td>\n",
       "      <td>0.0</td>\n",
       "      <td>0.450798</td>\n",
       "      <td>0.0</td>\n",
       "      <td>0.0</td>\n",
       "      <td>0.0</td>\n",
       "      <td>0.0</td>\n",
       "      <td>0.0</td>\n",
       "      <td>0.0</td>\n",
       "      <td>...</td>\n",
       "      <td>0.0</td>\n",
       "      <td>0.004311</td>\n",
       "      <td>0.0</td>\n",
       "      <td>0.0</td>\n",
       "      <td>0.0</td>\n",
       "      <td>0.0</td>\n",
       "      <td>0.0</td>\n",
       "      <td>0.0</td>\n",
       "      <td>0.001770</td>\n",
       "      <td>0.437675</td>\n",
       "    </tr>\n",
       "    <tr>\n",
       "      <th>x30MCx3422</th>\n",
       "      <td>0.0</td>\n",
       "      <td>0.003483</td>\n",
       "      <td>0.0</td>\n",
       "      <td>0.326272</td>\n",
       "      <td>0.0</td>\n",
       "      <td>0.0</td>\n",
       "      <td>0.0</td>\n",
       "      <td>0.0</td>\n",
       "      <td>0.0</td>\n",
       "      <td>0.0</td>\n",
       "      <td>...</td>\n",
       "      <td>0.0</td>\n",
       "      <td>0.010874</td>\n",
       "      <td>0.0</td>\n",
       "      <td>0.0</td>\n",
       "      <td>0.0</td>\n",
       "      <td>0.0</td>\n",
       "      <td>0.0</td>\n",
       "      <td>0.0</td>\n",
       "      <td>0.000000</td>\n",
       "      <td>0.504190</td>\n",
       "    </tr>\n",
       "    <tr>\n",
       "      <th>x30MCx3423</th>\n",
       "      <td>0.0</td>\n",
       "      <td>0.001383</td>\n",
       "      <td>0.0</td>\n",
       "      <td>0.366835</td>\n",
       "      <td>0.0</td>\n",
       "      <td>0.0</td>\n",
       "      <td>0.0</td>\n",
       "      <td>0.0</td>\n",
       "      <td>0.0</td>\n",
       "      <td>0.0</td>\n",
       "      <td>...</td>\n",
       "      <td>0.0</td>\n",
       "      <td>0.007209</td>\n",
       "      <td>0.0</td>\n",
       "      <td>0.0</td>\n",
       "      <td>0.0</td>\n",
       "      <td>0.0</td>\n",
       "      <td>0.0</td>\n",
       "      <td>0.0</td>\n",
       "      <td>0.086954</td>\n",
       "      <td>0.402260</td>\n",
       "    </tr>\n",
       "  </tbody>\n",
       "</table>\n",
       "<p>1818 rows × 33 columns</p>\n",
       "</div>"
      ],
      "text/plain": [
       "Feature     Acidobacteria  Actinobacteria  Aquificae  Bacteroidetes  \\\n",
       "SampleID                                                              \n",
       "x10MCx1134            0.0        0.005796        0.0       0.217918   \n",
       "x10MCx1135            0.0        0.024177        0.0       0.489427   \n",
       "x10MCx1138            0.0        0.006391        0.0       0.716887   \n",
       "x10MCx1140            0.0        0.019180        0.0       0.267957   \n",
       "x10MCx1143            0.0        0.000253        0.0       0.810251   \n",
       "...                   ...             ...        ...            ...   \n",
       "x30MCx3384            0.0        0.000735        0.0       0.305697   \n",
       "x30MCx3412            0.0        0.030944        0.0       0.559131   \n",
       "x30MCx3414            0.0        0.006607        0.0       0.450798   \n",
       "x30MCx3422            0.0        0.003483        0.0       0.326272   \n",
       "x30MCx3423            0.0        0.001383        0.0       0.366835   \n",
       "\n",
       "Feature     Chlamydiae  Chlorobi  Chloroflexi  Chrysiogenetes  Crenarchaeota  \\\n",
       "SampleID                                                                       \n",
       "x10MCx1134         0.0       0.0          0.0             0.0            0.0   \n",
       "x10MCx1135         0.0       0.0          0.0             0.0            0.0   \n",
       "x10MCx1138         0.0       0.0          0.0             0.0            0.0   \n",
       "x10MCx1140         0.0       0.0          0.0             0.0            0.0   \n",
       "x10MCx1143         0.0       0.0          0.0             0.0            0.0   \n",
       "...                ...       ...          ...             ...            ...   \n",
       "x30MCx3384         0.0       0.0          0.0             0.0            0.0   \n",
       "x30MCx3412         0.0       0.0          0.0             0.0            0.0   \n",
       "x30MCx3414         0.0       0.0          0.0             0.0            0.0   \n",
       "x30MCx3422         0.0       0.0          0.0             0.0            0.0   \n",
       "x30MCx3423         0.0       0.0          0.0             0.0            0.0   \n",
       "\n",
       "Feature     Cyanobacteria  ...  Planctomycetes  Proteobacteria  Spirochaetes  \\\n",
       "SampleID                   ...                                                 \n",
       "x10MCx1134            0.0  ...             0.0        0.001216           0.0   \n",
       "x10MCx1135            0.0  ...             0.0        0.006216           0.0   \n",
       "x10MCx1138            0.0  ...             0.0        0.034657           0.0   \n",
       "x10MCx1140            0.0  ...             0.0        0.003387           0.0   \n",
       "x10MCx1143            0.0  ...             0.0        0.003729           0.0   \n",
       "...                   ...  ...             ...             ...           ...   \n",
       "x30MCx3384            0.0  ...             0.0        0.028796           0.0   \n",
       "x30MCx3412            0.0  ...             0.0        0.022090           0.0   \n",
       "x30MCx3414            0.0  ...             0.0        0.004311           0.0   \n",
       "x30MCx3422            0.0  ...             0.0        0.010874           0.0   \n",
       "x30MCx3423            0.0  ...             0.0        0.007209           0.0   \n",
       "\n",
       "Feature     Synergistetes  Tenericutes  Thaumarchaeota  Thermodesulfobacteria  \\\n",
       "SampleID                                                                        \n",
       "x10MCx1134            0.0          0.0             0.0                    0.0   \n",
       "x10MCx1135            0.0          0.0             0.0                    0.0   \n",
       "x10MCx1138            0.0          0.0             0.0                    0.0   \n",
       "x10MCx1140            0.0          0.0             0.0                    0.0   \n",
       "x10MCx1143            0.0          0.0             0.0                    0.0   \n",
       "...                   ...          ...             ...                    ...   \n",
       "x30MCx3384            0.0          0.0             0.0                    0.0   \n",
       "x30MCx3412            0.0          0.0             0.0                    0.0   \n",
       "x30MCx3414            0.0          0.0             0.0                    0.0   \n",
       "x30MCx3422            0.0          0.0             0.0                    0.0   \n",
       "x30MCx3423            0.0          0.0             0.0                    0.0   \n",
       "\n",
       "Feature     Thermotogae  Verrucomicrobia  unclassified  \n",
       "SampleID                                                \n",
       "x10MCx1134          0.0         0.012789      0.621895  \n",
       "x10MCx1135          0.0         0.000000      0.350304  \n",
       "x10MCx1138          0.0         0.000000      0.117172  \n",
       "x10MCx1140          0.0         0.000000      0.523847  \n",
       "x10MCx1143          0.0         0.000000      0.139298  \n",
       "...                 ...              ...           ...  \n",
       "x30MCx3384          0.0         0.000331      0.509273  \n",
       "x30MCx3412          0.0         0.000000      0.262674  \n",
       "x30MCx3414          0.0         0.001770      0.437675  \n",
       "x30MCx3422          0.0         0.000000      0.504190  \n",
       "x30MCx3423          0.0         0.086954      0.402260  \n",
       "\n",
       "[1818 rows x 33 columns]"
      ]
     },
     "execution_count": 7,
     "metadata": {},
     "output_type": "execute_result"
    }
   ],
   "source": [
    "mydatatable_norm"
   ]
  },
  {
   "cell_type": "code",
   "execution_count": 19,
   "metadata": {},
   "outputs": [
    {
     "data": {
      "image/png": "[encoded data removed]",
      "text/plain": [
       "<Figure size 360x360 with 1 Axes>"
      ]
     },
     "metadata": {
      "needs_background": "light"
     },
     "output_type": "display_data"
    }
   ],
   "source": [
    "# plot distributions of relative phylum abundances in human samples\n",
    "fig = plt.figure(figsize=(5, 5))\n",
    "mydatatable_norm.boxplot(column = ['Actinobacteria', 'Bacteroidetes', \n",
    "                                    'Firmicutes', 'Proteobacteria'])\n",
    "ax = plt.gca()\n",
    "ax.set_ylim([0, 1])\n",
    "ax.set_ylabel('Relative abundance')\n",
    "ax.set_title('Human population (metaCardis, n=' + str(mydatatable_norm.shape[0]) + ')')\n",
    "plt.savefig( figure_folder + 'metacardis_phylum_distribution.pdf',\n",
    "                format='pdf',\n",
    "                bbox_inches='tight')"
   ]
  },
  {
   "cell_type": "markdown",
   "metadata": {},
   "source": [
    "## Check on species level representation of the 14 community"
   ]
  },
  {
   "cell_type": "code",
   "execution_count": 20,
   "metadata": {},
   "outputs": [],
   "source": [
    "mydata_species = pd.read_csv(human_data_folder + 'hub.cellcount.motu.Species.v2.data.frame.r',\n",
    "                    sep='\\t')"
   ]
  },
  {
   "cell_type": "code",
   "execution_count": 21,
   "metadata": {},
   "outputs": [],
   "source": [
    "# pivot table to have samples vs features\n",
    "mydata_species_table = pd.pivot_table(mydata_species, values='FeatureValue',\n",
    "                             index=['SampleID'],\n",
    "                            columns = ['Feature'])"
   ]
  },
  {
   "cell_type": "code",
   "execution_count": 25,
   "metadata": {},
   "outputs": [],
   "source": [
    "# normalize relative abundance\n",
    "mydata_species_table = mydata_species_table.div(mydata_species_table.sum(axis=1), axis=0) "
   ]
  },
  {
   "cell_type": "code",
   "execution_count": 26,
   "metadata": {},
   "outputs": [],
   "source": [
    "my_species = ['Bacteroides_uniformis',\n",
    "             'Bacteroides_thetaiotaomicron',\n",
    "             'Bacteroides_ovatus',\n",
    "             'Bacteroides_caccae',\n",
    "             'Bacteroides_stercoris',\n",
    "             'Parabacteroides_distasonis',\n",
    "             'Bifidobacterium_adolescentis',\n",
    "             'Collinsella_aerofaciens',\n",
    "             'Escherichia_coli',\n",
    "             'Marvinbryantia_formatexigens',\n",
    "             'Clostridium_symbiosum',\n",
    "             '_Ruminococcus__obeum',#'Blautia_obeum',\n",
    "             'Clostridium_scindens',\n",
    "             '_Ruminococcus__torques']"
   ]
  },
  {
   "cell_type": "code",
   "execution_count": 27,
   "metadata": {},
   "outputs": [
    {
     "data": {
      "text/plain": [
       "{'Bacteroides_caccae',\n",
       " 'Bacteroides_ovatus',\n",
       " 'Bacteroides_stercoris',\n",
       " 'Bacteroides_thetaiotaomicron',\n",
       " 'Bacteroides_uniformis',\n",
       " 'Bifidobacterium_adolescentis',\n",
       " 'Clostridium_scindens',\n",
       " 'Clostridium_symbiosum',\n",
       " 'Collinsella_aerofaciens',\n",
       " 'Escherichia_coli',\n",
       " 'Marvinbryantia_formatexigens',\n",
       " 'Parabacteroides_distasonis',\n",
       " '_Ruminococcus__obeum',\n",
       " '_Ruminococcus__torques'}"
      ]
     },
     "execution_count": 27,
     "metadata": {},
     "output_type": "execute_result"
    }
   ],
   "source": [
    "set(my_species).intersection(mydata_species_table.columns)"
   ]
  },
  {
   "cell_type": "code",
   "execution_count": 28,
   "metadata": {},
   "outputs": [
    {
     "data": {
      "text/plain": [
       "['_Ruminococcus__torques']"
      ]
     },
     "execution_count": 28,
     "metadata": {},
     "output_type": "execute_result"
    }
   ],
   "source": [
    "findspecies = 'torques'#'obeum'\n",
    "[test for test in mydata_species_table.columns if test.find(findspecies)>0]"
   ]
  },
  {
   "cell_type": "code",
   "execution_count": 29,
   "metadata": {},
   "outputs": [],
   "source": [
    "mydata_species_table_selected = mydata_species_table.loc[:,my_species].copy()"
   ]
  },
  {
   "cell_type": "code",
   "execution_count": 309,
   "metadata": {},
   "outputs": [],
   "source": [
    "mydata_species_table_selected.to_csv('metacardis_selected_species_abundance.csv')"
   ]
  },
  {
   "cell_type": "code",
   "execution_count": 266,
   "metadata": {},
   "outputs": [],
   "source": [
    "mydata_species_table_selected_prevalence = mydata_species_table_selected.copy()\n",
    "mydata_species_table_selected_prevalence = mydata_species_table_selected_prevalence.fillna(0)"
   ]
  },
  {
   "cell_type": "code",
   "execution_count": 268,
   "metadata": {},
   "outputs": [],
   "source": [
    "mydata_species_table_selected_prevalence = mydata_species_table_selected_prevalence>0"
   ]
  },
  {
   "cell_type": "code",
   "execution_count": 275,
   "metadata": {},
   "outputs": [],
   "source": [
    "myspecies_prevalence = mydata_species_table_selected_prevalence.sum(axis=0)*100/mydata_species_table_selected_prevalence.shape[0]"
   ]
  },
  {
   "cell_type": "code",
   "execution_count": 296,
   "metadata": {},
   "outputs": [
    {
     "data": {
      "text/plain": [
       "83.03080308030803"
      ]
     },
     "execution_count": 296,
     "metadata": {},
     "output_type": "execute_result"
    }
   ],
   "source": [
    "np.median(myspecies_prevalence)"
   ]
  },
  {
   "cell_type": "code",
   "execution_count": 301,
   "metadata": {},
   "outputs": [],
   "source": [
    "mysort = ['Marvinbryantia_formatexigens',\n",
    "          'Clostridium_symbiosum',\n",
    "          '_Ruminococcus__obeum',\n",
    "          'Clostridium_scindens',\n",
    "          '_Ruminococcus__torques',\n",
    "          'Bifidobacterium_adolescentis',\n",
    "          'Collinsella_aerofaciens',\n",
    "          'Bacteroides_ovatus',\n",
    "          'Bacteroides_caccae',\n",
    "          'Bacteroides_thetaiotaomicron',\n",
    "          'Bacteroides_uniformis',\n",
    "          'Bacteroides_stercoris',\n",
    "          'Parabacteroides_distasonis',\n",
    "          'Escherichia_coli']"
   ]
  },
  {
   "cell_type": "code",
   "execution_count": 304,
   "metadata": {},
   "outputs": [
    {
     "data": {
      "text/plain": [
       "Feature\n",
       "Bacteroides_uniformis           97.029703\n",
       "Bacteroides_thetaiotaomicron    91.639164\n",
       "Bacteroides_ovatus              94.994499\n",
       "Bacteroides_caccae              72.497250\n",
       "Bacteroides_stercoris           61.001100\n",
       "Parabacteroides_distasonis      91.034103\n",
       "Bifidobacterium_adolescentis    67.381738\n",
       "Collinsella_aerofaciens         85.093509\n",
       "Escherichia_coli                80.968097\n",
       "Marvinbryantia_formatexigens     0.660066\n",
       "Clostridium_symbiosum           30.363036\n",
       "_Ruminococcus__obeum            92.354235\n",
       "Clostridium_scindens            15.346535\n",
       "_Ruminococcus__torques          95.764576\n",
       "dtype: float64"
      ]
     },
     "execution_count": 304,
     "metadata": {},
     "output_type": "execute_result"
    }
   ],
   "source": [
    "myspecies_prevalence"
   ]
  },
  {
   "cell_type": "code",
   "execution_count": 305,
   "metadata": {},
   "outputs": [],
   "source": [
    "myspecies_prevalence = myspecies_prevalence.loc[mysort]"
   ]
  },
  {
   "cell_type": "code",
   "execution_count": 307,
   "metadata": {},
   "outputs": [
    {
     "data": {
      "image/png": "[encoded data removed]",
      "text/plain": [
       "<Figure size 432x288 with 1 Axes>"
      ]
     },
     "metadata": {
      "needs_background": "light"
     },
     "output_type": "display_data"
    }
   ],
   "source": [
    "fig, ax = plt.subplots()\n",
    "ax.barh(range(len(myspecies_prevalence)), myspecies_prevalence)\n",
    "ax.set_yticks(range(len(myspecies_prevalence)))\n",
    "ax.set_yticklabels(myspecies_prevalence.index)\n",
    "#ax.set_ylim([0, 130]) \n",
    "#ax.set_aspect('equal')#, 'box')\n",
    "# Add labels and title\n",
    "plt.xlabel('percent', fontsize=12)\n",
    "#plt.ylabel('number of people', fontsize=12)\n",
    "plt.title('Prevalence in a human cohort (n='+str(mydata_KEGG.shape[1])+')', fontsize=14)\n",
    "plt.gca().invert_yaxis()\n",
    "#plt.hist(percent_overlap_kegg, bins=50)\n",
    "plt.savefig( 'myspecies_prevalence_humans.pdf',\n",
    "                format='pdf',\n",
    "                bbox_inches='tight')"
   ]
  },
  {
   "cell_type": "code",
   "execution_count": 34,
   "metadata": {},
   "outputs": [
    {
     "data": {
      "text/plain": [
       "(array([ 23.,  65., 111.,  87.,  95.,  85.,  84.,  73.,  64.,  78.,  75.,\n",
       "         62.,  58.,  57.,  58.,  40.,  58.,  44.,  42.,  30.,  38.,  29.,\n",
       "         33.,  38.,  22.,  27.,  12.,  20.,  21.,  16.,  17.,  21.,  13.,\n",
       "         21.,  12.,  19.,  12.,   6.,  16.,   8.,   7.,   9.,   8.,   9.,\n",
       "          5.,   6.,   9.,   5.,   8.,   3.,   5.,   1.,   1.,   3.,   5.,\n",
       "          3.,   5.,   2.,   4.,   0.,   1.,   1.,   2.,   1.,   0.,   2.,\n",
       "          2.,   2.,   1.,   0.,   1.,   1.,   2.,   1.,   1.,   0.,   0.,\n",
       "          1.,   0.,   2.,   0.,   1.,   1.,   1.,   0.,   0.,   1.,   1.,\n",
       "          0.,   0.,   0.,   0.,   1.,   0.,   1.,   1.,   0.,   0.,   0.,\n",
       "          1.]),\n",
       " array([0.00145769, 0.00794057, 0.01442344, 0.02090632, 0.0273892 ,\n",
       "        0.03387208, 0.04035496, 0.04683784, 0.05332071, 0.05980359,\n",
       "        0.06628647, 0.07276935, 0.07925223, 0.08573511, 0.09221798,\n",
       "        0.09870086, 0.10518374, 0.11166662, 0.1181495 , 0.12463237,\n",
       "        0.13111525, 0.13759813, 0.14408101, 0.15056389, 0.15704677,\n",
       "        0.16352964, 0.17001252, 0.1764954 , 0.18297828, 0.18946116,\n",
       "        0.19594404, 0.20242691, 0.20890979, 0.21539267, 0.22187555,\n",
       "        0.22835843, 0.23484131, 0.24132418, 0.24780706, 0.25428994,\n",
       "        0.26077282, 0.2672557 , 0.27373857, 0.28022145, 0.28670433,\n",
       "        0.29318721, 0.29967009, 0.30615297, 0.31263584, 0.31911872,\n",
       "        0.3256016 , 0.33208448, 0.33856736, 0.34505024, 0.35153311,\n",
       "        0.35801599, 0.36449887, 0.37098175, 0.37746463, 0.3839475 ,\n",
       "        0.39043038, 0.39691326, 0.40339614, 0.40987902, 0.4163619 ,\n",
       "        0.42284477, 0.42932765, 0.43581053, 0.44229341, 0.44877629,\n",
       "        0.45525917, 0.46174204, 0.46822492, 0.4747078 , 0.48119068,\n",
       "        0.48767356, 0.49415644, 0.50063931, 0.50712219, 0.51360507,\n",
       "        0.52008795, 0.52657083, 0.5330537 , 0.53953658, 0.54601946,\n",
       "        0.55250234, 0.55898522, 0.5654681 , 0.57195097, 0.57843385,\n",
       "        0.58491673, 0.59139961, 0.59788249, 0.60436537, 0.61084824,\n",
       "        0.61733112, 0.623814  , 0.63029688, 0.63677976, 0.64326263,\n",
       "        0.64974551]),\n",
       " <a list of 100 Patch objects>)"
      ]
     },
     "execution_count": 34,
     "metadata": {},
     "output_type": "execute_result"
    },
    {
     "data": {
      "image/png": "[encoded data removed]",
      "text/plain": [
       "<Figure size 432x288 with 1 Axes>"
      ]
     },
     "metadata": {
      "needs_background": "light"
     },
     "output_type": "display_data"
    }
   ],
   "source": [
    "plt.hist(mydata_species_table_selected.sum(axis=1),bins=100)"
   ]
  },
  {
   "cell_type": "code",
   "execution_count": 53,
   "metadata": {},
   "outputs": [
    {
     "data": {
      "text/plain": [
       "0.10711216396760835"
      ]
     },
     "execution_count": 53,
     "metadata": {},
     "output_type": "execute_result"
    }
   ],
   "source": [
    "mydata_species_table_selected.sum(axis=1).mean()"
   ]
  },
  {
   "cell_type": "code",
   "execution_count": 54,
   "metadata": {},
   "outputs": [
    {
     "data": {
      "text/plain": [
       "0.07989627566133656"
      ]
     },
     "execution_count": 54,
     "metadata": {},
     "output_type": "execute_result"
    }
   ],
   "source": [
    "mydata_species_table_selected.sum(axis=1).median()"
   ]
  },
  {
   "cell_type": "code",
   "execution_count": 44,
   "metadata": {},
   "outputs": [
    {
     "data": {
      "text/plain": [
       "(array([  3.,   7.,  22.,  34.,  71., 179., 338., 540., 486., 138.]),\n",
       " array([ 2. ,  3.1,  4.2,  5.3,  6.4,  7.5,  8.6,  9.7, 10.8, 11.9, 13. ]),\n",
       " <a list of 10 Patch objects>)"
      ]
     },
     "execution_count": 44,
     "metadata": {},
     "output_type": "execute_result"
    },
    {
     "data": {
      "image/png": "[encoded data removed]",
      "text/plain": [
       "<Figure size 432x288 with 1 Axes>"
      ]
     },
     "metadata": {
      "needs_background": "light"
     },
     "output_type": "display_data"
    }
   ],
   "source": [
    "plt.hist((mydata_species_table_selected>0).sum(axis=1), bins=10)"
   ]
  },
  {
   "cell_type": "code",
   "execution_count": 49,
   "metadata": {},
   "outputs": [
    {
     "data": {
      "text/plain": [
       "624"
      ]
     },
     "execution_count": 49,
     "metadata": {},
     "output_type": "execute_result"
    }
   ],
   "source": [
    "((mydata_species_table_selected>0).sum(axis=1)>10).sum()"
   ]
  },
  {
   "cell_type": "code",
   "execution_count": 50,
   "metadata": {},
   "outputs": [],
   "source": [
    "# normalize relative abundance by 14\n",
    "mydata_species_table_selected_norm = mydata_species_table_selected.div(mydata_species_table_selected.sum(axis=1), axis=0) "
   ]
  },
  {
   "cell_type": "code",
   "execution_count": 51,
   "metadata": {},
   "outputs": [
    {
     "data": {
      "text/plain": [
       "<matplotlib.axes._subplots.AxesSubplot at 0x1d18de90588>"
      ]
     },
     "execution_count": 51,
     "metadata": {},
     "output_type": "execute_result"
    },
    {
     "data": {
      "image/png": "[encoded data removed]",
      "text/plain": [
       "<Figure size 1440x1440 with 1 Axes>"
      ]
     },
     "metadata": {
      "needs_background": "light"
     },
     "output_type": "display_data"
    }
   ],
   "source": [
    "fig = plt.figure(figsize=(20, 20))\n",
    "mydata_species_table_selected_norm.boxplot()\n",
    "#plt.savefig( 'phylum_distribution.pdf',\n",
    "#                format='pdf',\n",
    "#                bbox_inches='tight')"
   ]
  },
  {
   "cell_type": "code",
   "execution_count": 52,
   "metadata": {},
   "outputs": [
    {
     "data": {
      "text/plain": [
       "<matplotlib.axes._subplots.AxesSubplot at 0x1d18d508048>"
      ]
     },
     "execution_count": 52,
     "metadata": {},
     "output_type": "execute_result"
    },
    {
     "data": {
      "image/png": "[encoded data removed]",
      "text/plain": [
       "<Figure size 1440x1440 with 1 Axes>"
      ]
     },
     "metadata": {
      "needs_background": "light"
     },
     "output_type": "display_data"
    }
   ],
   "source": [
    "fig = plt.figure(figsize=(20, 20))\n",
    "mydata_species_table_selected.boxplot()\n",
    "#plt.savefig( 'phylum_distribution.pdf',\n",
    "#                format='pdf',\n",
    "#                bbox_inches='tight')"
   ]
  },
  {
   "cell_type": "code",
   "execution_count": null,
   "metadata": {},
   "outputs": [],
   "source": []
  },
  {
   "cell_type": "code",
   "execution_count": 55,
   "metadata": {},
   "outputs": [],
   "source": [
    "#mydata_mock_genes = pd.read_csv('humann2_DNA_genefamilies_cpm.tsv',\n",
    "#                    sep='\\t')\n",
    "#mydata_GMM = pd.read_csv('hub.adjusted_GMM.down.10000000.v5.data.frame.r',\n",
    "#                    sep='\\t')\n",
    "#mydata_MGS = pd.read_csv('hub.adjusted_MGS.down.10000000.filtered.v6.data.frame.r',\n",
    "#                    sep='\\t')"
   ]
  },
  {
   "cell_type": "code",
   "execution_count": 125,
   "metadata": {},
   "outputs": [],
   "source": [
    "mydata_KEGG = pd.read_csv('hub.adjusted_KEGG_module.down.10000000.v3.data.frame.r',\n",
    "                    sep='\\t')"
   ]
  },
  {
   "cell_type": "code",
   "execution_count": 126,
   "metadata": {},
   "outputs": [
    {
     "data": {
      "text/plain": [
       "660"
      ]
     },
     "execution_count": 126,
     "metadata": {},
     "output_type": "execute_result"
    }
   ],
   "source": [
    "len(set(mydata_KEGG.FeatureDisplayName))"
   ]
  },
  {
   "cell_type": "code",
   "execution_count": 127,
   "metadata": {},
   "outputs": [],
   "source": [
    "mydata_KEGG = pd.pivot_table(mydata_KEGG, values='FeatureValue',\n",
    "                             index=['FeatureDisplayName'],\n",
    "                            columns = ['SampleID'])"
   ]
  },
  {
   "cell_type": "code",
   "execution_count": 129,
   "metadata": {},
   "outputs": [],
   "source": [
    "mydata_KEGG = mydata_KEGG>0"
   ]
  },
  {
   "cell_type": "code",
   "execution_count": 131,
   "metadata": {},
   "outputs": [
    {
     "data": {
      "text/plain": [
       "SampleID\n",
       "x10MCx1134    567\n",
       "x10MCx1135    547\n",
       "x10MCx1138    532\n",
       "x10MCx1140    552\n",
       "x10MCx1143    540\n",
       "             ... \n",
       "x30MCx3384    594\n",
       "x30MCx3412    547\n",
       "x30MCx3414    604\n",
       "x30MCx3422    564\n",
       "x30MCx3423    600\n",
       "Length: 1857, dtype: int64"
      ]
     },
     "execution_count": 131,
     "metadata": {},
     "output_type": "execute_result"
    }
   ],
   "source": [
    "mydata_KEGG.sum()"
   ]
  },
  {
   "cell_type": "code",
   "execution_count": 291,
   "metadata": {},
   "outputs": [
    {
     "data": {
      "text/plain": [
       "487"
      ]
     },
     "execution_count": 291,
     "metadata": {},
     "output_type": "execute_result"
    }
   ],
   "source": [
    "np.min(mydata_KEGG.sum())"
   ]
  },
  {
   "cell_type": "code",
   "execution_count": 290,
   "metadata": {},
   "outputs": [
    {
     "data": {
      "text/plain": [
       "616"
      ]
     },
     "execution_count": 290,
     "metadata": {},
     "output_type": "execute_result"
    }
   ],
   "source": [
    "np.max(mydata_KEGG.sum())"
   ]
  },
  {
   "cell_type": "code",
   "execution_count": 209,
   "metadata": {},
   "outputs": [],
   "source": [
    "mydata_KEGG = mydata_KEGG.drop(index=['-1'])"
   ]
  },
  {
   "cell_type": "markdown",
   "metadata": {},
   "source": [
    "Read eggNOG genome annotations"
   ]
  },
  {
   "cell_type": "code",
   "execution_count": 97,
   "metadata": {},
   "outputs": [],
   "source": [
    "from os import listdir\n",
    "from os.path import isfile, join\n",
    "import numpy as np"
   ]
  },
  {
   "cell_type": "code",
   "execution_count": 83,
   "metadata": {},
   "outputs": [],
   "source": [
    "genomeFolder = 'genomes14eggnog'\n",
    "onlyfiles = [f for f in listdir(genomeFolder) if isfile(join(genomeFolder, f))]"
   ]
  },
  {
   "cell_type": "code",
   "execution_count": 225,
   "metadata": {},
   "outputs": [],
   "source": [
    "keggmodules_df_joint = []\n",
    "for myfile in onlyfiles:\n",
    "    mydata_genome = pd.read_csv(genomeFolder + '\\\\' + myfile,\n",
    "                    sep='\\t', skiprows=4, header=None) \n",
    "    keggmodules = mydata_genome.iloc[:,10]\n",
    "    # remove unnannotated\n",
    "    keggmodules = list(keggmodules.dropna())\n",
    "    # split and keep unique module names\n",
    "    keggmodules = list(set([x for xs in keggmodules for x in xs.split(',')]))\n",
    "    keggmodules_df = pd.DataFrame(1, index=keggmodules, columns=[myfile])\n",
    "    if len(keggmodules_df_joint)==0:\n",
    "        keggmodules_df_joint = keggmodules_df.copy()\n",
    "    else:\n",
    "        keggmodules_df_joint = keggmodules_df_joint.add(keggmodules_df,fill_value=0)"
   ]
  },
  {
   "cell_type": "code",
   "execution_count": 226,
   "metadata": {},
   "outputs": [],
   "source": [
    "#mydata_genome = pd.read_csv(genomeFolder + '\\Rtor_job_MM_k9659i1d_annotations.tsv',\n",
    "#                    sep='\\t', skiprows=4, header=None) "
   ]
  },
  {
   "cell_type": "code",
   "execution_count": 227,
   "metadata": {},
   "outputs": [],
   "source": [
    "# fill nas with 0 in all columns\n",
    "keggmodules_df_joint = keggmodules_df_joint.fillna(0)"
   ]
  },
  {
   "cell_type": "code",
   "execution_count": 228,
   "metadata": {},
   "outputs": [],
   "source": [
    "#sort by sum of 1 in columns \n",
    "s = keggmodules_df_joint.sum()\n",
    "keggmodules_df_joint = keggmodules_df_joint[s.sort_values(ascending=True).index]"
   ]
  },
  {
   "cell_type": "code",
   "execution_count": 229,
   "metadata": {},
   "outputs": [],
   "source": [
    "keggmodules_df_joint_sum = keggmodules_df_joint.copy()\n",
    "for i in range(1,keggmodules_df_joint_sum.shape[1]):\n",
    "    keggmodules_df_joint_sum.iloc[:,i] = keggmodules_df_joint_sum.iloc[:,i] + keggmodules_df_joint_sum.iloc[:,i-1]"
   ]
  },
  {
   "cell_type": "code",
   "execution_count": 230,
   "metadata": {},
   "outputs": [],
   "source": [
    "keggmodules_df_joint_sum = keggmodules_df_joint_sum.clip(0,1)"
   ]
  },
  {
   "cell_type": "code",
   "execution_count": 231,
   "metadata": {},
   "outputs": [
    {
     "data": {
      "text/plain": [
       "359.0"
      ]
     },
     "execution_count": 231,
     "metadata": {},
     "output_type": "execute_result"
    }
   ],
   "source": [
    "keggmodules_df_joint['Ecol_job_MM_zytof08m_annotations.tsv'].sum()"
   ]
  },
  {
   "cell_type": "code",
   "execution_count": 232,
   "metadata": {},
   "outputs": [
    {
     "data": {
      "text/plain": [
       "486.0"
      ]
     },
     "execution_count": 232,
     "metadata": {},
     "output_type": "execute_result"
    }
   ],
   "source": [
    "keggmodules_df_joint_sum['Ecol_job_MM_zytof08m_annotations.tsv'].sum()"
   ]
  },
  {
   "cell_type": "code",
   "execution_count": 233,
   "metadata": {},
   "outputs": [
    {
     "data": {
      "text/plain": [
       "Bado_job_MM_b7bducjs_annotations.tsv    208.0\n",
       "Caer_job_MM_m4r45lgn_annotations.tsv    216.0\n",
       "Rtor_job_MM_k9659i1d_annotations.tsv    226.0\n",
       "Bste_job_MM_qm0yvy7j_annotations.tsv    234.0\n",
       "Bobe_job_MM_basuua3b_annotations.tsv    242.0\n",
       "Bcac_job_MM_w5lxxvou_annotations.tsv    245.0\n",
       "Buni_job_MM_vm_dztk6_annotations.tsv    252.0\n",
       "Bthe_job_MM_tpt9epfc_annotations.tsv    253.0\n",
       "Bova_job_MM_yzguie9o_annotations.tsv    256.0\n",
       "Pdis_job_MM_ujnclh_z_annotations.tsv    257.0\n",
       "Mfor_job_MM_r7_0p66z_annotations.tsv    263.0\n",
       "Csci_job_MM_k3nkbpw7_annotations.tsv    267.0\n",
       "Csym_job_MM_nfwroj53_annotations.tsv    301.0\n",
       "Ecol_job_MM_zytof08m_annotations.tsv    359.0\n",
       "dtype: float64"
      ]
     },
     "execution_count": 233,
     "metadata": {},
     "output_type": "execute_result"
    }
   ],
   "source": [
    "keggmodules_df_joint.sum()"
   ]
  },
  {
   "cell_type": "code",
   "execution_count": 234,
   "metadata": {},
   "outputs": [
    {
     "data": {
      "text/plain": [
       "Bado_job_MM_b7bducjs_annotations.tsv    208.0\n",
       "Caer_job_MM_m4r45lgn_annotations.tsv    268.0\n",
       "Rtor_job_MM_k9659i1d_annotations.tsv    304.0\n",
       "Bste_job_MM_qm0yvy7j_annotations.tsv    346.0\n",
       "Bobe_job_MM_basuua3b_annotations.tsv    365.0\n",
       "Bcac_job_MM_w5lxxvou_annotations.tsv    373.0\n",
       "Buni_job_MM_vm_dztk6_annotations.tsv    376.0\n",
       "Bthe_job_MM_tpt9epfc_annotations.tsv    378.0\n",
       "Bova_job_MM_yzguie9o_annotations.tsv    383.0\n",
       "Pdis_job_MM_ujnclh_z_annotations.tsv    389.0\n",
       "Mfor_job_MM_r7_0p66z_annotations.tsv    405.0\n",
       "Csci_job_MM_k3nkbpw7_annotations.tsv    429.0\n",
       "Csym_job_MM_nfwroj53_annotations.tsv    451.0\n",
       "Ecol_job_MM_zytof08m_annotations.tsv    486.0\n",
       "dtype: float64"
      ]
     },
     "execution_count": 234,
     "metadata": {},
     "output_type": "execute_result"
    }
   ],
   "source": [
    "keggmodules_df_joint_sum.sum()"
   ]
  },
  {
   "cell_type": "code",
   "execution_count": 294,
   "metadata": {},
   "outputs": [
    {
     "data": {
      "image/png": "[encoded data removed]",
      "text/plain": [
       "<Figure size 432x288 with 1 Axes>"
      ]
     },
     "metadata": {
      "needs_background": "light"
     },
     "output_type": "display_data"
    }
   ],
   "source": [
    "fig, ax = plt.subplots()\n",
    "ax.plot(keggmodules_df_joint_sum.sum(), '-')\n",
    "ax.xaxis.set_tick_params(rotation=90, labelsize=10)\n",
    "ax.plot(keggmodules_df_joint_sum.sum(), marker='o', linestyle='--', color='r')\n",
    "\n",
    "plt.plot([0, 14], [np.min(mydata_KEGG.sum()),np.min(mydata_KEGG.sum())])\n",
    "plt.plot([0, 14], [np.max(mydata_KEGG.sum()),np.max(mydata_KEGG.sum())])\n",
    "ax.set_ylim([0, 650]) \n",
    "#ax.set_aspect('equal')#, 'box')\n",
    "# Add labels and title\n",
    "#plt.xlabel('x', fontsize=12)\n",
    "plt.ylabel('number of modules', fontsize=12)\n",
    "plt.title('Annotated KEGG modules', fontsize=14)\n",
    "plt.savefig( 'kegg_modules_cumulative_species.pdf',\n",
    "                format='pdf',\n",
    "                bbox_inches='tight')"
   ]
  },
  {
   "cell_type": "code",
   "execution_count": 210,
   "metadata": {},
   "outputs": [
    {
     "data": {
      "text/html": [
       "<div>\n",
       "<style scoped>\n",
       "    .dataframe tbody tr th:only-of-type {\n",
       "        vertical-align: middle;\n",
       "    }\n",
       "\n",
       "    .dataframe tbody tr th {\n",
       "        vertical-align: top;\n",
       "    }\n",
       "\n",
       "    .dataframe thead th {\n",
       "        text-align: right;\n",
       "    }\n",
       "</style>\n",
       "<table border=\"1\" class=\"dataframe\">\n",
       "  <thead>\n",
       "    <tr style=\"text-align: right;\">\n",
       "      <th></th>\n",
       "      <th>Ecol_job_MM_zytof08m_annotations.tsv</th>\n",
       "      <th>Csym_job_MM_nfwroj53_annotations.tsv</th>\n",
       "      <th>Csci_job_MM_k3nkbpw7_annotations.tsv</th>\n",
       "      <th>Mfor_job_MM_r7_0p66z_annotations.tsv</th>\n",
       "      <th>Pdis_job_MM_ujnclh_z_annotations.tsv</th>\n",
       "      <th>Bova_job_MM_yzguie9o_annotations.tsv</th>\n",
       "      <th>Bthe_job_MM_tpt9epfc_annotations.tsv</th>\n",
       "      <th>Buni_job_MM_vm_dztk6_annotations.tsv</th>\n",
       "      <th>Bcac_job_MM_w5lxxvou_annotations.tsv</th>\n",
       "      <th>Bobe_job_MM_basuua3b_annotations.tsv</th>\n",
       "      <th>Bste_job_MM_qm0yvy7j_annotations.tsv</th>\n",
       "      <th>Rtor_job_MM_k9659i1d_annotations.tsv</th>\n",
       "      <th>Caer_job_MM_m4r45lgn_annotations.tsv</th>\n",
       "      <th>Bado_job_MM_b7bducjs_annotations.tsv</th>\n",
       "    </tr>\n",
       "  </thead>\n",
       "  <tbody>\n",
       "    <tr>\n",
       "      <th>M00001</th>\n",
       "      <td>1.0</td>\n",
       "      <td>1.0</td>\n",
       "      <td>1.0</td>\n",
       "      <td>1.0</td>\n",
       "      <td>1.0</td>\n",
       "      <td>1.0</td>\n",
       "      <td>1.0</td>\n",
       "      <td>1.0</td>\n",
       "      <td>1.0</td>\n",
       "      <td>1.0</td>\n",
       "      <td>1.0</td>\n",
       "      <td>1.0</td>\n",
       "      <td>1.0</td>\n",
       "      <td>1.0</td>\n",
       "    </tr>\n",
       "    <tr>\n",
       "      <th>M00002</th>\n",
       "      <td>1.0</td>\n",
       "      <td>1.0</td>\n",
       "      <td>1.0</td>\n",
       "      <td>1.0</td>\n",
       "      <td>1.0</td>\n",
       "      <td>1.0</td>\n",
       "      <td>1.0</td>\n",
       "      <td>1.0</td>\n",
       "      <td>1.0</td>\n",
       "      <td>1.0</td>\n",
       "      <td>1.0</td>\n",
       "      <td>1.0</td>\n",
       "      <td>1.0</td>\n",
       "      <td>1.0</td>\n",
       "    </tr>\n",
       "    <tr>\n",
       "      <th>M00003</th>\n",
       "      <td>1.0</td>\n",
       "      <td>1.0</td>\n",
       "      <td>1.0</td>\n",
       "      <td>1.0</td>\n",
       "      <td>1.0</td>\n",
       "      <td>1.0</td>\n",
       "      <td>1.0</td>\n",
       "      <td>1.0</td>\n",
       "      <td>1.0</td>\n",
       "      <td>1.0</td>\n",
       "      <td>1.0</td>\n",
       "      <td>1.0</td>\n",
       "      <td>1.0</td>\n",
       "      <td>1.0</td>\n",
       "    </tr>\n",
       "    <tr>\n",
       "      <th>M00004</th>\n",
       "      <td>1.0</td>\n",
       "      <td>1.0</td>\n",
       "      <td>1.0</td>\n",
       "      <td>1.0</td>\n",
       "      <td>1.0</td>\n",
       "      <td>1.0</td>\n",
       "      <td>1.0</td>\n",
       "      <td>1.0</td>\n",
       "      <td>1.0</td>\n",
       "      <td>1.0</td>\n",
       "      <td>1.0</td>\n",
       "      <td>1.0</td>\n",
       "      <td>1.0</td>\n",
       "      <td>1.0</td>\n",
       "    </tr>\n",
       "    <tr>\n",
       "      <th>M00005</th>\n",
       "      <td>1.0</td>\n",
       "      <td>1.0</td>\n",
       "      <td>1.0</td>\n",
       "      <td>1.0</td>\n",
       "      <td>1.0</td>\n",
       "      <td>1.0</td>\n",
       "      <td>1.0</td>\n",
       "      <td>1.0</td>\n",
       "      <td>1.0</td>\n",
       "      <td>1.0</td>\n",
       "      <td>1.0</td>\n",
       "      <td>1.0</td>\n",
       "      <td>1.0</td>\n",
       "      <td>1.0</td>\n",
       "    </tr>\n",
       "    <tr>\n",
       "      <th>...</th>\n",
       "      <td>...</td>\n",
       "      <td>...</td>\n",
       "      <td>...</td>\n",
       "      <td>...</td>\n",
       "      <td>...</td>\n",
       "      <td>...</td>\n",
       "      <td>...</td>\n",
       "      <td>...</td>\n",
       "      <td>...</td>\n",
       "      <td>...</td>\n",
       "      <td>...</td>\n",
       "      <td>...</td>\n",
       "      <td>...</td>\n",
       "      <td>...</td>\n",
       "    </tr>\n",
       "    <tr>\n",
       "      <th>M00841</th>\n",
       "      <td>1.0</td>\n",
       "      <td>1.0</td>\n",
       "      <td>1.0</td>\n",
       "      <td>1.0</td>\n",
       "      <td>1.0</td>\n",
       "      <td>1.0</td>\n",
       "      <td>1.0</td>\n",
       "      <td>1.0</td>\n",
       "      <td>1.0</td>\n",
       "      <td>1.0</td>\n",
       "      <td>1.0</td>\n",
       "      <td>1.0</td>\n",
       "      <td>1.0</td>\n",
       "      <td>1.0</td>\n",
       "    </tr>\n",
       "    <tr>\n",
       "      <th>M00842</th>\n",
       "      <td>1.0</td>\n",
       "      <td>1.0</td>\n",
       "      <td>1.0</td>\n",
       "      <td>1.0</td>\n",
       "      <td>1.0</td>\n",
       "      <td>1.0</td>\n",
       "      <td>1.0</td>\n",
       "      <td>1.0</td>\n",
       "      <td>1.0</td>\n",
       "      <td>1.0</td>\n",
       "      <td>1.0</td>\n",
       "      <td>1.0</td>\n",
       "      <td>1.0</td>\n",
       "      <td>1.0</td>\n",
       "    </tr>\n",
       "    <tr>\n",
       "      <th>M00843</th>\n",
       "      <td>1.0</td>\n",
       "      <td>1.0</td>\n",
       "      <td>1.0</td>\n",
       "      <td>1.0</td>\n",
       "      <td>1.0</td>\n",
       "      <td>1.0</td>\n",
       "      <td>1.0</td>\n",
       "      <td>1.0</td>\n",
       "      <td>1.0</td>\n",
       "      <td>1.0</td>\n",
       "      <td>1.0</td>\n",
       "      <td>1.0</td>\n",
       "      <td>1.0</td>\n",
       "      <td>1.0</td>\n",
       "    </tr>\n",
       "    <tr>\n",
       "      <th>M00844</th>\n",
       "      <td>1.0</td>\n",
       "      <td>1.0</td>\n",
       "      <td>1.0</td>\n",
       "      <td>1.0</td>\n",
       "      <td>1.0</td>\n",
       "      <td>1.0</td>\n",
       "      <td>1.0</td>\n",
       "      <td>1.0</td>\n",
       "      <td>1.0</td>\n",
       "      <td>1.0</td>\n",
       "      <td>1.0</td>\n",
       "      <td>1.0</td>\n",
       "      <td>1.0</td>\n",
       "      <td>1.0</td>\n",
       "    </tr>\n",
       "    <tr>\n",
       "      <th>M00845</th>\n",
       "      <td>1.0</td>\n",
       "      <td>1.0</td>\n",
       "      <td>1.0</td>\n",
       "      <td>1.0</td>\n",
       "      <td>1.0</td>\n",
       "      <td>1.0</td>\n",
       "      <td>1.0</td>\n",
       "      <td>1.0</td>\n",
       "      <td>1.0</td>\n",
       "      <td>1.0</td>\n",
       "      <td>1.0</td>\n",
       "      <td>1.0</td>\n",
       "      <td>1.0</td>\n",
       "      <td>1.0</td>\n",
       "    </tr>\n",
       "  </tbody>\n",
       "</table>\n",
       "<p>486 rows × 14 columns</p>\n",
       "</div>"
      ],
      "text/plain": [
       "        Ecol_job_MM_zytof08m_annotations.tsv  \\\n",
       "M00001                                   1.0   \n",
       "M00002                                   1.0   \n",
       "M00003                                   1.0   \n",
       "M00004                                   1.0   \n",
       "M00005                                   1.0   \n",
       "...                                      ...   \n",
       "M00841                                   1.0   \n",
       "M00842                                   1.0   \n",
       "M00843                                   1.0   \n",
       "M00844                                   1.0   \n",
       "M00845                                   1.0   \n",
       "\n",
       "        Csym_job_MM_nfwroj53_annotations.tsv  \\\n",
       "M00001                                   1.0   \n",
       "M00002                                   1.0   \n",
       "M00003                                   1.0   \n",
       "M00004                                   1.0   \n",
       "M00005                                   1.0   \n",
       "...                                      ...   \n",
       "M00841                                   1.0   \n",
       "M00842                                   1.0   \n",
       "M00843                                   1.0   \n",
       "M00844                                   1.0   \n",
       "M00845                                   1.0   \n",
       "\n",
       "        Csci_job_MM_k3nkbpw7_annotations.tsv  \\\n",
       "M00001                                   1.0   \n",
       "M00002                                   1.0   \n",
       "M00003                                   1.0   \n",
       "M00004                                   1.0   \n",
       "M00005                                   1.0   \n",
       "...                                      ...   \n",
       "M00841                                   1.0   \n",
       "M00842                                   1.0   \n",
       "M00843                                   1.0   \n",
       "M00844                                   1.0   \n",
       "M00845                                   1.0   \n",
       "\n",
       "        Mfor_job_MM_r7_0p66z_annotations.tsv  \\\n",
       "M00001                                   1.0   \n",
       "M00002                                   1.0   \n",
       "M00003                                   1.0   \n",
       "M00004                                   1.0   \n",
       "M00005                                   1.0   \n",
       "...                                      ...   \n",
       "M00841                                   1.0   \n",
       "M00842                                   1.0   \n",
       "M00843                                   1.0   \n",
       "M00844                                   1.0   \n",
       "M00845                                   1.0   \n",
       "\n",
       "        Pdis_job_MM_ujnclh_z_annotations.tsv  \\\n",
       "M00001                                   1.0   \n",
       "M00002                                   1.0   \n",
       "M00003                                   1.0   \n",
       "M00004                                   1.0   \n",
       "M00005                                   1.0   \n",
       "...                                      ...   \n",
       "M00841                                   1.0   \n",
       "M00842                                   1.0   \n",
       "M00843                                   1.0   \n",
       "M00844                                   1.0   \n",
       "M00845                                   1.0   \n",
       "\n",
       "        Bova_job_MM_yzguie9o_annotations.tsv  \\\n",
       "M00001                                   1.0   \n",
       "M00002                                   1.0   \n",
       "M00003                                   1.0   \n",
       "M00004                                   1.0   \n",
       "M00005                                   1.0   \n",
       "...                                      ...   \n",
       "M00841                                   1.0   \n",
       "M00842                                   1.0   \n",
       "M00843                                   1.0   \n",
       "M00844                                   1.0   \n",
       "M00845                                   1.0   \n",
       "\n",
       "        Bthe_job_MM_tpt9epfc_annotations.tsv  \\\n",
       "M00001                                   1.0   \n",
       "M00002                                   1.0   \n",
       "M00003                                   1.0   \n",
       "M00004                                   1.0   \n",
       "M00005                                   1.0   \n",
       "...                                      ...   \n",
       "M00841                                   1.0   \n",
       "M00842                                   1.0   \n",
       "M00843                                   1.0   \n",
       "M00844                                   1.0   \n",
       "M00845                                   1.0   \n",
       "\n",
       "        Buni_job_MM_vm_dztk6_annotations.tsv  \\\n",
       "M00001                                   1.0   \n",
       "M00002                                   1.0   \n",
       "M00003                                   1.0   \n",
       "M00004                                   1.0   \n",
       "M00005                                   1.0   \n",
       "...                                      ...   \n",
       "M00841                                   1.0   \n",
       "M00842                                   1.0   \n",
       "M00843                                   1.0   \n",
       "M00844                                   1.0   \n",
       "M00845                                   1.0   \n",
       "\n",
       "        Bcac_job_MM_w5lxxvou_annotations.tsv  \\\n",
       "M00001                                   1.0   \n",
       "M00002                                   1.0   \n",
       "M00003                                   1.0   \n",
       "M00004                                   1.0   \n",
       "M00005                                   1.0   \n",
       "...                                      ...   \n",
       "M00841                                   1.0   \n",
       "M00842                                   1.0   \n",
       "M00843                                   1.0   \n",
       "M00844                                   1.0   \n",
       "M00845                                   1.0   \n",
       "\n",
       "        Bobe_job_MM_basuua3b_annotations.tsv  \\\n",
       "M00001                                   1.0   \n",
       "M00002                                   1.0   \n",
       "M00003                                   1.0   \n",
       "M00004                                   1.0   \n",
       "M00005                                   1.0   \n",
       "...                                      ...   \n",
       "M00841                                   1.0   \n",
       "M00842                                   1.0   \n",
       "M00843                                   1.0   \n",
       "M00844                                   1.0   \n",
       "M00845                                   1.0   \n",
       "\n",
       "        Bste_job_MM_qm0yvy7j_annotations.tsv  \\\n",
       "M00001                                   1.0   \n",
       "M00002                                   1.0   \n",
       "M00003                                   1.0   \n",
       "M00004                                   1.0   \n",
       "M00005                                   1.0   \n",
       "...                                      ...   \n",
       "M00841                                   1.0   \n",
       "M00842                                   1.0   \n",
       "M00843                                   1.0   \n",
       "M00844                                   1.0   \n",
       "M00845                                   1.0   \n",
       "\n",
       "        Rtor_job_MM_k9659i1d_annotations.tsv  \\\n",
       "M00001                                   1.0   \n",
       "M00002                                   1.0   \n",
       "M00003                                   1.0   \n",
       "M00004                                   1.0   \n",
       "M00005                                   1.0   \n",
       "...                                      ...   \n",
       "M00841                                   1.0   \n",
       "M00842                                   1.0   \n",
       "M00843                                   1.0   \n",
       "M00844                                   1.0   \n",
       "M00845                                   1.0   \n",
       "\n",
       "        Caer_job_MM_m4r45lgn_annotations.tsv  \\\n",
       "M00001                                   1.0   \n",
       "M00002                                   1.0   \n",
       "M00003                                   1.0   \n",
       "M00004                                   1.0   \n",
       "M00005                                   1.0   \n",
       "...                                      ...   \n",
       "M00841                                   1.0   \n",
       "M00842                                   1.0   \n",
       "M00843                                   1.0   \n",
       "M00844                                   1.0   \n",
       "M00845                                   1.0   \n",
       "\n",
       "        Bado_job_MM_b7bducjs_annotations.tsv  \n",
       "M00001                                   1.0  \n",
       "M00002                                   1.0  \n",
       "M00003                                   1.0  \n",
       "M00004                                   1.0  \n",
       "M00005                                   1.0  \n",
       "...                                      ...  \n",
       "M00841                                   1.0  \n",
       "M00842                                   1.0  \n",
       "M00843                                   1.0  \n",
       "M00844                                   1.0  \n",
       "M00845                                   1.0  \n",
       "\n",
       "[486 rows x 14 columns]"
      ]
     },
     "execution_count": 210,
     "metadata": {},
     "output_type": "execute_result"
    }
   ],
   "source": [
    "#keggmodules_df_joint.to_csv('testjoint.csv')\n",
    "#keggmodules_df_joint_sum.to_csv('testjoint_sum.csv')\n",
    "keggmodules_df_joint_sum"
   ]
  },
  {
   "cell_type": "code",
   "execution_count": 223,
   "metadata": {},
   "outputs": [],
   "source": [
    "# calculate overlap of modules for each sample\n",
    "num_overlap_kegg = []\n",
    "percent_overlap_kegg = []\n",
    "\n",
    "for cursample in mydata_KEGG.columns:\n",
    "    curmodules = mydata_KEGG.loc[mydata_KEGG[cursample]==True, cursample]\n",
    "    num_overlap = len(set(curmodules.index).intersection(keggmodules_df_joint_sum.index))\n",
    "    num_overlap_kegg.append(num_overlap)\n",
    "    percent_overlap_kegg.append(100*num_overlap/curmodules.shape[0])"
   ]
  },
  {
   "cell_type": "code",
   "execution_count": 262,
   "metadata": {},
   "outputs": [
    {
     "data": {
      "image/png": "[encoded data removed]",
      "text/plain": [
       "<Figure size 432x288 with 1 Axes>"
      ]
     },
     "metadata": {
      "needs_background": "light"
     },
     "output_type": "display_data"
    }
   ],
   "source": [
    "fig, ax = plt.subplots()\n",
    "ax.hist(percent_overlap_kegg, bins=50)\n",
    "ax.set_ylim([0, 130]) \n",
    "#ax.set_aspect('equal')#, 'box')\n",
    "# Add labels and title\n",
    "plt.xlabel('percent', fontsize=12)\n",
    "plt.ylabel('number of people', fontsize=12)\n",
    "plt.title('Covered KEGG modules in humans (n='+str(mydata_KEGG.shape[1])+')', fontsize=14)\n",
    "#plt.hist(percent_overlap_kegg, bins=50)\n",
    "plt.savefig( 'kegg_modules_coverage_human.pdf',\n",
    "                format='pdf',\n",
    "                bbox_inches='tight')"
   ]
  },
  {
   "cell_type": "code",
   "execution_count": null,
   "metadata": {},
   "outputs": [],
   "source": []
  }
 ],
 "metadata": {
  "kernelspec": {
   "display_name": "Python 3",
   "language": "python",
   "name": "python3"
  },
  "language_info": {
   "codemirror_mode": {
    "name": "ipython",
    "version": 3
   },
   "file_extension": ".py",
   "mimetype": "text/x-python",
   "name": "python",
   "nbconvert_exporter": "python",
   "pygments_lexer": "ipython3",
   "version": "3.7.7"
  }
 },
 "nbformat": 4,
 "nbformat_minor": 4
}
